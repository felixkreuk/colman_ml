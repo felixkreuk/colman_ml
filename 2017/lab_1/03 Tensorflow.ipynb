{
 "cells": [
  {
   "cell_type": "markdown",
   "metadata": {
    "slideshow": {
     "slide_type": "slide"
    }
   },
   "source": [
    "# Tensorflow Tutorial\n",
    "by Felix Kreuk."
   ]
  },
  {
   "cell_type": "markdown",
   "metadata": {
    "slideshow": {
     "slide_type": "slide"
    }
   },
   "source": [
    "# What is `Tensorflow`\n",
    "TensorFlow is an open source software library for numerical computation using data flow graphs. We will demonstrate how to define and train neural network models for multi-class classification problems.\n",
    "\n",
    "In this tutorial, we will train:\n",
    "* Logistic Regression Model\n",
    "* One-Hidden Layer Neural Network Model\n",
    "* Convolutional Neural Network Model\n",
    "\n",
    "We will train all of which on MNIST dataset."
   ]
  },
  {
   "cell_type": "markdown",
   "metadata": {
    "slideshow": {
     "slide_type": "subslide"
    }
   },
   "source": [
    "# Computation Graph\n",
    "![title](graph.png)"
   ]
  },
  {
   "cell_type": "markdown",
   "metadata": {
    "slideshow": {
     "slide_type": "slide"
    }
   },
   "source": [
    "# Back to MNIST\n",
    "The following code will import and download the MNIST dataset."
   ]
  },
  {
   "cell_type": "code",
   "execution_count": 16,
   "metadata": {
    "slideshow": {
     "slide_type": "-"
    }
   },
   "outputs": [
    {
     "name": "stdout",
     "output_type": "stream",
     "text": [
      "Extracting MNIST_data/train-images-idx3-ubyte.gz\n",
      "Extracting MNIST_data/train-labels-idx1-ubyte.gz\n",
      "Extracting MNIST_data/t10k-images-idx3-ubyte.gz\n",
      "Extracting MNIST_data/t10k-labels-idx1-ubyte.gz\n"
     ]
    }
   ],
   "source": [
    "import tensorflow as tf\n",
    "import tensorflow.examples.tutorials.mnist.input_data as input_data\n",
    "import numpy as np\n",
    "import matplotlib.pyplot as plt\n",
    "\n",
    "# read the data and labels as ont-hot vectors\n",
    "# one-hot means a sparse vector for every observation where only\n",
    "# the class label is 1, and every other class is 0.\n",
    "# more info here:\n",
    "mnist = input_data.read_data_sets('MNIST_data/', one_hot=True)"
   ]
  },
  {
   "cell_type": "code",
   "execution_count": 17,
   "metadata": {
    "slideshow": {
     "slide_type": "subslide"
    }
   },
   "outputs": [
    {
     "name": "stdout",
     "output_type": "stream",
     "text": [
      "(55000, 10000, 5000)\n",
      "((55000, 784), (55000, 10))\n",
      "(0.0, 1.0)\n"
     ]
    },
    {
     "data": {
      "text/plain": [
       "<matplotlib.image.AxesImage at 0x105cd71d0>"
      ]
     },
     "execution_count": 17,
     "metadata": {},
     "output_type": "execute_result"
    },
    {
     "data": {
      "image/png": "[encoded data removed]",
      "text/plain": [
       "<matplotlib.figure.Figure at 0x11c6cfd50>"
      ]
     },
     "metadata": {},
     "output_type": "display_data"
    }
   ],
   "source": [
    "%matplotlib inline\n",
    "# mnist is now a DataSet with accessors for:\n",
    "#'train', 'test', and 'validation'.\n",
    "# within each, we can access:\n",
    "# images, labels, and num_examples\n",
    "print(mnist.train.num_examples,\n",
    "      mnist.test.num_examples,\n",
    "      mnist.validation.num_examples)\n",
    "\n",
    "# the images are stored as:\n",
    "# n_observations x n_features tensor (n-dim array)\n",
    "# the labels are stored as n_observations x n_labels,\n",
    "# where each observation is a one-hot vector.\n",
    "print(mnist.train.images.shape, mnist.train.labels.shape)\n",
    "\n",
    "# the range of the values of the images is from 0-1\n",
    "print(np.min(mnist.train.images), np.max(mnist.train.images))\n",
    "\n",
    "# we can visualize any one of the images by reshaping it to a 28x28 image\n",
    "plt.imshow(np.reshape(mnist.train.images[100, :], (28, 28)), cmap='gray')"
   ]
  },
  {
   "cell_type": "markdown",
   "metadata": {
    "slideshow": {
     "slide_type": "slide"
    }
   },
   "source": [
    "# Logistic Regression\n",
    "Logistic regression is a linear model. It solves the same problem that the perceptron algorithm solves - finding a linear seperator for our data.\n",
    "\n",
    "Lets start by creating placeholders for our data (you can think of placeholders like variables in our computation graph)."
   ]
  },
  {
   "cell_type": "code",
   "execution_count": 18,
   "metadata": {
    "collapsed": true,
    "slideshow": {
     "slide_type": "-"
    }
   },
   "outputs": [],
   "source": [
    "n_input = 784\n",
    "n_output = 10\n",
    "net_input = tf.placeholder(tf.float32, [None, n_input])\n",
    "y_true = tf.placeholder(tf.float32, [None, 10])"
   ]
  },
  {
   "cell_type": "markdown",
   "metadata": {
    "slideshow": {
     "slide_type": "subslide"
    }
   },
   "source": [
    "# The Model\n",
    "Next, let us define our model, it's pretty basic: $y = softmax(W \\cdot x + b)$."
   ]
  },
  {
   "cell_type": "code",
   "execution_count": 19,
   "metadata": {
    "collapsed": true,
    "slideshow": {
     "slide_type": "-"
    }
   },
   "outputs": [],
   "source": [
    "W = tf.Variable(tf.truncated_normal ([n_input, n_output]))\n",
    "b = tf.Variable(tf.truncated_normal ([n_output]))\n",
    "net_output = tf.nn.softmax(tf.matmul(net_input, W) + b) # <-- THIS IS OUR MODEL!\n",
    "\n",
    "# prediction and actual using the argmax as the predicted label\n",
    "correct_prediction = tf.equal(tf.argmax(net_output, 1), tf.argmax(y_true, 1))\n",
    "\n",
    "# And now we can look at the mean of our network's correct guesses\n",
    "accuracy = tf.reduce_mean(tf.cast(correct_prediction, \"float\"))"
   ]
  },
  {
   "cell_type": "markdown",
   "metadata": {
    "slideshow": {
     "slide_type": "slide"
    }
   },
   "source": [
    "# Optimizing the Model\n",
    "Now that we have our model, lets fit the data.\n",
    "\n",
    "But first, recall we need to minimize some loss/cost function. In our case this function is called **cross-entropy** (or **negative log likelihood** for the one-hot case)\n",
    "\n",
    "This is how to looks like:\n",
    "$$\n",
    "\\ell(w,x,y) = - \\sum_{i=0}^{n} y_i \\cdot log(\\hat{y_i})\n",
    "$$\n",
    "\n",
    "where $y_i$ is the true label and $\\hat{y_i}$ is the model's prediction."
   ]
  },
  {
   "cell_type": "code",
   "execution_count": 26,
   "metadata": {
    "collapsed": true,
    "slideshow": {
     "slide_type": "-"
    }
   },
   "outputs": [],
   "source": [
    "cross_entropy = -tf.reduce_sum(y_true * tf.log(net_output))"
   ]
  },
  {
   "cell_type": "markdown",
   "metadata": {
    "slideshow": {
     "slide_type": "subslide"
    }
   },
   "source": [
    "# Optimizing the Model - cont'd\n",
    "To optimize, we will use a technique called **Stochastic Gradient Descent**. What it does can be see as:\n",
    "* Choose an initial vector of parameters $\\displaystyle{w}$ and learning rate ${\\displaystyle \\eta }$\n",
    "* Repeat until an approximate minimum is obtained:\n",
    "    * Randomly shuffle examples in the training set\n",
    "    * For ${\\displaystyle i=1,2,...,n}$, do:\n",
    "        * $\\!w_{i+1}:=w_{i}-\\eta \\nabla(w_{i})$.\n",
    "\n",
    "Where $\\nabla(w_{i})$ is the gradient of the loss function with respect to the parameters"
   ]
  },
  {
   "cell_type": "code",
   "execution_count": 21,
   "metadata": {
    "collapsed": true,
    "slideshow": {
     "slide_type": "-"
    }
   },
   "outputs": [],
   "source": [
    "eta = 0.01\n",
    "optimizer = tf.train.GradientDescentOptimizer(eta).minimize(cross_entropy)"
   ]
  },
  {
   "cell_type": "markdown",
   "metadata": {
    "slideshow": {
     "slide_type": "slide"
    }
   },
   "source": [
    "# Define a Session\n",
    "In `tensoflow` one must use a session to communicate with the computation graph. You can ignore the technicallity for now.\n",
    "\n",
    "Note that we also initialize our variables at this stage.\n",
    "- Does the initialization process matter?"
   ]
  },
  {
   "cell_type": "code",
   "execution_count": 22,
   "metadata": {
    "collapsed": true,
    "slideshow": {
     "slide_type": "-"
    }
   },
   "outputs": [],
   "source": [
    "sess = tf.Session()\n",
    "sess.run(tf.global_variables_initializer())"
   ]
  },
  {
   "cell_type": "markdown",
   "metadata": {
    "slideshow": {
     "slide_type": "slide"
    }
   },
   "source": [
    "# Putting it All Together"
   ]
  },
  {
   "cell_type": "code",
   "execution_count": 23,
   "metadata": {
    "slideshow": {
     "slide_type": "-"
    }
   },
   "outputs": [
    {
     "name": "stdout",
     "output_type": "stream",
     "text": [
      "Validation accuracy for epoch 1 is: 0.88639998436\n",
      "Validation accuracy for epoch 2 is: 0.898400008678\n",
      "Validation accuracy for epoch 3 is: 0.905200004578\n",
      "Validation accuracy for epoch 4 is: 0.91060000658\n",
      "Validation accuracy for epoch 5 is: 0.912800014019\n",
      "Validation accuracy for epoch 6 is: 0.905799984932\n",
      "Validation accuracy for epoch 7 is: 0.911800026894\n",
      "Validation accuracy for epoch 8 is: 0.918799996376\n",
      "Validation accuracy for epoch 9 is: 0.915000021458\n",
      "Validation accuracy for epoch 10 is: 0.915799975395\n"
     ]
    }
   ],
   "source": [
    "batch_size = 100\n",
    "n_epochs = 10\n",
    "l_loss = list()\n",
    "for epoch_i in range(n_epochs):\n",
    "    for batch_i in range(0, mnist.train.num_examples, batch_size):\n",
    "        batch_xs, batch_ys = mnist.train.next_batch(batch_size)\n",
    "        sess.run(optimizer, feed_dict={\n",
    "            net_input: batch_xs,\n",
    "            y_true: batch_ys\n",
    "        })\n",
    "    loss = sess.run(accuracy, feed_dict={\n",
    "                       net_input: mnist.validation.images,\n",
    "                       y_true: mnist.validation.labels})\n",
    "    print('Validation accuracy for epoch {} is: {}'.format(epoch_i + 1, loss))\n",
    "    l_loss.append(loss)"
   ]
  },
  {
   "cell_type": "markdown",
   "metadata": {
    "slideshow": {
     "slide_type": "subslide"
    }
   },
   "source": [
    "# Cool. Lets See Some Results."
   ]
  },
  {
   "cell_type": "code",
   "execution_count": 24,
   "metadata": {
    "slideshow": {
     "slide_type": "-"
    }
   },
   "outputs": [
    {
     "data": {
      "image/png": "[encoded data removed]",
      "text/plain": [
       "<matplotlib.figure.Figure at 0x105e13690>"
      ]
     },
     "metadata": {},
     "output_type": "display_data"
    }
   ],
   "source": [
    "plt.title('Logistic Regression Acuracy')\n",
    "plt.ylabel('Accuracy')\n",
    "plt.xlabel('Epochs')\n",
    "plt.plot(l_loss, color='m')\n",
    "plt.show()"
   ]
  },
  {
   "cell_type": "markdown",
   "metadata": {
    "slideshow": {
     "slide_type": "subslide"
    }
   },
   "source": [
    "# But Wait...\n",
    "This is our accuracy on the validation set! What we really want to know is how we performed on the test set:"
   ]
  },
  {
   "cell_type": "code",
   "execution_count": 25,
   "metadata": {
    "slideshow": {
     "slide_type": "-"
    }
   },
   "outputs": [
    {
     "name": "stdout",
     "output_type": "stream",
     "text": [
      "Accuracy for test set: 0.91479998827\n"
     ]
    }
   ],
   "source": [
    "print(\"Accuracy for test set: {}\". format(sess.run(accuracy,\n",
    "               feed_dict={\n",
    "                   net_input: mnist.test.images,\n",
    "                   y_true: mnist.test.labels\n",
    "               })))"
   ]
  },
  {
   "cell_type": "markdown",
   "metadata": {
    "slideshow": {
     "slide_type": "slide"
    }
   },
   "source": [
    "# Adding Layers\n",
    "So what we have so far is a linear model, basically 1 layer.\n",
    "\n",
    "Why not add a **hidden layer**?\n",
    "\n",
    "Next, we will implement a model called **MLP** (Multi Layer Perceptron). It will have the following structure:\n",
    "- Input layer (784)\n",
    "- Hidden layer (256)\n",
    "- Output layer (10)"
   ]
  },
  {
   "cell_type": "code",
   "execution_count": 28,
   "metadata": {
    "collapsed": true,
    "slideshow": {
     "slide_type": "-"
    }
   },
   "outputs": [],
   "source": [
    "n_input = 784\n",
    "n_output = 10\n",
    "net_input = tf.placeholder(tf.float32, [None, n_input])\n",
    "y_true = tf.placeholder(tf.float32, [None, 10])"
   ]
  },
  {
   "cell_type": "markdown",
   "metadata": {
    "slideshow": {
     "slide_type": "slide"
    }
   },
   "source": [
    "# The Model\n",
    "Let us define the model, this time: $y = softmax(W2 \\cdot relu(W1 \\cdot x + b1) + b2)$"
   ]
  },
  {
   "cell_type": "code",
   "execution_count": 31,
   "metadata": {
    "collapsed": true,
    "slideshow": {
     "slide_type": "skip"
    }
   },
   "outputs": [],
   "source": [
    "hidden_size = 256\n",
    "W1 = tf.Variable(tf.truncated_normal([n_input, hidden_size]))\n",
    "b1 = tf.Variable(tf.truncated_normal([hidden_size]))\n",
    "\n",
    "W2 = tf.Variable(tf.truncated_normal([hidden_size, n_output]))\n",
    "b2 = tf.Variable(tf.truncated_normal([n_output]))\n",
    "net_output = (tf.matmul(tf.nn.relu(tf.matmul(net_input, W1) + b1), W2) + b2)\n",
    "\n",
    "# prediction and actual using the argmax as the predicted label\n",
    "correct_prediction = tf.equal(tf.argmax(net_output, 1), tf.argmax(y_true, 1))\n",
    "\n",
    "# And now we can look at the mean of our network's correct guesses\n",
    "accuracy = tf.reduce_mean(tf.cast(correct_prediction, \"float\"))"
   ]
  },
  {
   "cell_type": "markdown",
   "metadata": {
    "slideshow": {
     "slide_type": "-"
    }
   },
   "source": [
    "- Why use non-linearities? (combining linear function yields a linear function)\n",
    "- Other options for activation functions? (sigmoid, tanh, etc.)"
   ]
  },
  {
   "cell_type": "markdown",
   "metadata": {
    "slideshow": {
     "slide_type": "slide"
    }
   },
   "source": [
    "# Optimizing the Model\n",
    "Recall last time we defined a loss function called **cross-entropy**, this function is unstable (log is numerically unstable around zero). So this time lets use a numerically stable function already implemented for us (softmax + log + cross-entropy)."
   ]
  },
  {
   "cell_type": "code",
   "execution_count": 33,
   "metadata": {
    "collapsed": true,
    "slideshow": {
     "slide_type": "-"
    }
   },
   "outputs": [],
   "source": [
    "cost = tf.reduce_sum(tf.nn.softmax_cross_entropy_with_logits(logits=net_output, labels=y_true))"
   ]
  },
  {
   "cell_type": "markdown",
   "metadata": {
    "slideshow": {
     "slide_type": "subslide"
    }
   },
   "source": [
    "# Optimizing the Model - cont'd\n",
    "Now lets use a different optimization technique, instead of using **Stochastic Gradient Descent** let us use a method called **ADAM** (it is a varient of SGD, only with different learning rates for each dimension)."
   ]
  },
  {
   "cell_type": "code",
   "execution_count": 34,
   "metadata": {
    "collapsed": true,
    "slideshow": {
     "slide_type": "-"
    }
   },
   "outputs": [],
   "source": [
    "eta = 0.01\n",
    "optimizer = tf.train.AdamOptimizer(eta).minimize(cost)"
   ]
  },
  {
   "cell_type": "markdown",
   "metadata": {
    "slideshow": {
     "slide_type": "slide"
    }
   },
   "source": [
    "# Putting it All Together"
   ]
  },
  {
   "cell_type": "code",
   "execution_count": 35,
   "metadata": {
    "slideshow": {
     "slide_type": "-"
    }
   },
   "outputs": [
    {
     "name": "stdout",
     "output_type": "stream",
     "text": [
      "WARNING:tensorflow:From /Users/felix/Applications/Anaconda/anaconda/lib/python2.7/site-packages/tensorflow/python/util/tf_should_use.py:175: initialize_all_variables (from tensorflow.python.ops.variables) is deprecated and will be removed after 2017-03-02.\n",
      "Instructions for updating:\n",
      "Use `tf.global_variables_initializer` instead.\n",
      "Validation accuracy for epoch 1 is: 0.924399971962\n",
      "Validation accuracy for epoch 2 is: 0.947399973869\n",
      "Validation accuracy for epoch 3 is: 0.953599989414\n",
      "Validation accuracy for epoch 4 is: 0.956399977207\n",
      "Validation accuracy for epoch 5 is: 0.96020001173\n",
      "Validation accuracy for epoch 6 is: 0.96280002594\n",
      "Validation accuracy for epoch 7 is: 0.961600005627\n",
      "Validation accuracy for epoch 8 is: 0.966600000858\n",
      "Validation accuracy for epoch 9 is: 0.965200006962\n",
      "Validation accuracy for epoch 10 is: 0.962400019169\n"
     ]
    }
   ],
   "source": [
    "sess = tf.Session()\n",
    "sess.run(tf.global_variables_initializer())\n",
    "l_loss = list()\n",
    "\n",
    "# train:\n",
    "batch_size = 100\n",
    "n_epochs = 10\n",
    "for epoch_i in range(n_epochs):\n",
    "    for batch_i in range(0, mnist.train.num_examples, batch_size):\n",
    "        batch_xs, batch_ys = mnist.train.next_batch(batch_size)\n",
    "        sess.run(optimizer, feed_dict={\n",
    "            net_input: batch_xs,\n",
    "            y_true: batch_ys\n",
    "        })\n",
    "    loss = sess.run(accuracy, feed_dict={\n",
    "                       net_input: mnist.validation.images,\n",
    "                       y_true: mnist.validation.labels })\n",
    "    print('Validation accuracy for epoch {} is: {}'.format(epoch_i + 1, loss))\n",
    "    l_loss.append(loss)"
   ]
  },
  {
   "cell_type": "markdown",
   "metadata": {
    "slideshow": {
     "slide_type": "slide"
    }
   },
   "source": [
    "# Cool. Lets See Some Results"
   ]
  },
  {
   "cell_type": "code",
   "execution_count": 36,
   "metadata": {
    "slideshow": {
     "slide_type": "-"
    }
   },
   "outputs": [
    {
     "data": {
      "image/png": "[encoded data removed]",
      "text/plain": [
       "<matplotlib.figure.Figure at 0x11cc71e90>"
      ]
     },
     "metadata": {},
     "output_type": "display_data"
    }
   ],
   "source": [
    "plt.title('NN Acuracy')\n",
    "plt.ylabel('Accuracy')\n",
    "plt.xlabel('Epochs')\n",
    "plt.plot(l_loss, color='m')\n",
    "plt.show()"
   ]
  },
  {
   "cell_type": "markdown",
   "metadata": {
    "slideshow": {
     "slide_type": "slide"
    }
   },
   "source": [
    "# Test Set"
   ]
  },
  {
   "cell_type": "code",
   "execution_count": 37,
   "metadata": {
    "slideshow": {
     "slide_type": "-"
    }
   },
   "outputs": [
    {
     "name": "stdout",
     "output_type": "stream",
     "text": [
      "Accuracy for test set: 0.957799971104\n"
     ]
    }
   ],
   "source": [
    "print(\"Accuracy for test set: {}\".format(sess.run(accuracy,\n",
    "               feed_dict={\n",
    "                   net_input: mnist.test.images,\n",
    "                   y_true: mnist.test.labels\n",
    "               })))"
   ]
  },
  {
   "cell_type": "markdown",
   "metadata": {
    "slideshow": {
     "slide_type": "-"
    }
   },
   "source": [
    "This is much better right? Recall our accuracy of ~91% with logistic regression."
   ]
  },
  {
   "cell_type": "markdown",
   "metadata": {
    "slideshow": {
     "slide_type": "slide"
    }
   },
   "source": [
    "# Your Turn\n",
    "Now that you have seen how to build simple models it's your turn to experiment.\n",
    "\n",
    "Train an MLP."
   ]
  },
  {
   "cell_type": "markdown",
   "metadata": {
    "slideshow": {
     "slide_type": "subslide"
    }
   },
   "source": [
    "Your report should note:\n",
    "- optimizers you have tested.\n",
    "- learning rates you have tested.\n",
    "- batch sizes you have tested.\n",
    "- initialization methods you have tested (can you learn with zero-init?).\n",
    "- architectures you have tested.\n",
    "    - how many layers?\n",
    "    - size of layers?\n",
    "- regularization/dropout you have tested.\n",
    "- type of activation functions you have tested.\n",
    "- amount of epochs you have tested.\n",
    "- check for overfitting (plot train and validation together).\n",
    "- report you accuracy & loss on train, validation and test."
   ]
  }
 ],
 "metadata": {
  "celltoolbar": "Slideshow",
  "kernelspec": {
   "display_name": "Python [conda root]",
   "language": "python",
   "name": "conda-root-py"
  },
  "language_info": {
   "codemirror_mode": {
    "name": "ipython",
    "version": 2
   },
   "file_extension": ".py",
   "mimetype": "text/x-python",
   "name": "python",
   "nbconvert_exporter": "python",
   "pygments_lexer": "ipython2",
   "version": "2.7.13"
  }
 },
 "nbformat": 4,
 "nbformat_minor": 2
}
