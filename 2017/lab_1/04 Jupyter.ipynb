{
 "cells": [
  {
   "cell_type": "markdown",
   "metadata": {},
   "source": [
    "# Setting Up Jupyter\n",
    "- run the following commands (you do this once!):\n",
    "    - `activate tensorflow`\n",
    "    - `pip install jupyter`\n",
    "    - `ipython kernel install —name \"tensorflow\" —user`\n",
    "    \n",
    "# Running Jupyter\n",
    "- create a folder for your project.\n",
    "- open cmd in that folder.\n",
    "- make sure `tensorflow` env is activated (run `activate tensorflow` if not).\n",
    "- run `jupyter notebook`"
   ]
  },
  {
   "cell_type": "code",
   "execution_count": null,
   "metadata": {
    "collapsed": true
   },
   "outputs": [],
   "source": []
  }
 ],
 "metadata": {
  "kernelspec": {
   "display_name": "Python [conda root]",
   "language": "python",
   "name": "conda-root-py"
  },
  "language_info": {
   "codemirror_mode": {
    "name": "ipython",
    "version": 2
   },
   "file_extension": ".py",
   "mimetype": "text/x-python",
   "name": "python",
   "nbconvert_exporter": "python",
   "pygments_lexer": "ipython2",
   "version": "2.7.13"
  }
 },
 "nbformat": 4,
 "nbformat_minor": 2
}
