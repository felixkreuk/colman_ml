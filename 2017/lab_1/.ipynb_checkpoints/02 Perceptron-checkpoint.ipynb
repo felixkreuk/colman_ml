{
 "cells": [
  {
   "cell_type": "markdown",
   "metadata": {
    "slideshow": {
     "slide_type": "slide"
    }
   },
   "source": [
    "# Perceptron Tutorial\n",
    "By Felix Kreuk, adapted from Yosi Adi."
   ]
  },
  {
   "cell_type": "markdown",
   "metadata": {
    "slideshow": {
     "slide_type": "slide"
    }
   },
   "source": [
    "# Today\n",
    "In this tutorial we will be train a binary perceptron classifier for hand digit recognition.\n",
    "\n",
    "We will cover:\n",
    "* Loading and slicing MNIST dataset\n",
    "* Training and testing perceptron classifier\n",
    "* Visualize our data and model"
   ]
  },
  {
   "cell_type": "markdown",
   "metadata": {
    "slideshow": {
     "slide_type": "slide"
    }
   },
   "source": [
    "# Loading the Data\n",
    "Let's start with loading MNIST data set. You can download it directly from: http://yann.lecun.com/exdb/mnist/, or use sklearn packge. In this tutorial we will use sklearn for dataloading."
   ]
  },
  {
   "cell_type": "code",
   "execution_count": 22,
   "metadata": {
    "collapsed": true,
    "slideshow": {
     "slide_type": "-"
    }
   },
   "outputs": [],
   "source": [
    "from sklearn.datasets import fetch_mldata\n",
    "from sklearn.utils import shuffle\n",
    "\n",
    "# read data\n",
    "mnist = fetch_mldata(\"MNIST original\")\n",
    "eta = 0.1\n",
    "X, Y = mnist.data[:60000] / 255., mnist.target[:60000]\n",
    "x = [ex for ex, ey in zip(X, Y) if ey == 1 or ey == 8]\n",
    "# convert 1 to +1 and 8 to -1\n",
    "y = [1 if ey == 1 else -1 for ex, ey in zip(X, Y) if ey == 1 or ey == 8]\n",
    "# suffle examples\n",
    "x, y = shuffle(x, y, random_state=1)"
   ]
  },
  {
   "cell_type": "markdown",
   "metadata": {
    "slideshow": {
     "slide_type": "slide"
    }
   },
   "source": [
    "# Lets visualize the data"
   ]
  },
  {
   "cell_type": "code",
   "execution_count": 23,
   "metadata": {
    "slideshow": {
     "slide_type": "-"
    }
   },
   "outputs": [
    {
     "data": {
      "image/png": "[encoded data removed]",
      "text/plain": [
       "<matplotlib.figure.Figure at 0x1311bd810>"
      ]
     },
     "metadata": {},
     "output_type": "display_data"
    }
   ],
   "source": [
    "import matplotlib.pyplot as plt\n",
    "%matplotlib inline\n",
    "\n",
    "# show some images\n",
    "plt.figure(1)\n",
    "for i in range (1,26):\n",
    "    ax = plt.subplot(5,5,i)\n",
    "    ax.axis('off')\n",
    "    if y[i] > 0:\n",
    "        ax.imshow(x[i].reshape(28,28), cmap=\"gray\")\n",
    "    else:\n",
    "        ax.imshow(255-x[i].reshape(28,28), cmap=\"gray\")\n",
    "plt.show()"
   ]
  },
  {
   "cell_type": "markdown",
   "metadata": {
    "slideshow": {
     "slide_type": "slide"
    }
   },
   "source": [
    "# Perceptron Algorithm\n",
    "![title](perceptron_algo.png)"
   ]
  },
  {
   "cell_type": "markdown",
   "metadata": {
    "slideshow": {
     "slide_type": "slide"
    }
   },
   "source": [
    "# Perceptron Algorithm - cont'd\n",
    "![title](perceptron_loss.png)"
   ]
  },
  {
   "cell_type": "markdown",
   "metadata": {
    "slideshow": {
     "slide_type": "slide"
    }
   },
   "source": [
    "Lets code it!"
   ]
  },
  {
   "cell_type": "code",
   "execution_count": 24,
   "metadata": {
    "slideshow": {
     "slide_type": "subslide"
    }
   },
   "outputs": [
    {
     "name": "stdout",
     "output_type": "stream",
     "text": [
      "perceptron err = 0.0222345747638\n"
     ]
    }
   ],
   "source": [
    "import numpy as np\n",
    "import random\n",
    "\n",
    "# weight vector\n",
    "m = len(x)\n",
    "d = len(x[0])\n",
    "eta = 0.1\n",
    "w = np.zeros((d,));\n",
    "\n",
    "# Perceptron\n",
    "T = 8000\n",
    "for t in range(0, T):\n",
    "    # choose example\n",
    "    i = random.randint(0, m-1)\n",
    "    # predict\n",
    "    y_hat = np.sign(np.dot(w, x[i]))\n",
    "    # update\n",
    "    if y_hat * y[i] <= 0:\n",
    "        w = w + eta * y[i] * x[i]\n",
    "w_perceptron = w\n",
    "\n",
    "# testing\n",
    "M_perceptron = 0\n",
    "for t in range(0, m):\n",
    "    y_hat = np.sign(np.dot(w_perceptron, x[t]))\n",
    "    if y[t] != y_hat:\n",
    "        M_perceptron = M_perceptron + 1\n",
    "print(\"perceptron err =\", float(M_perceptron) / m)"
   ]
  },
  {
   "cell_type": "markdown",
   "metadata": {
    "slideshow": {
     "slide_type": "subslide"
    }
   },
   "source": [
    "# What were the hyper-parameters?\n",
    "- eta - learning rate\n",
    "- T - amount of epochs/iterations\n",
    "- Initialization method\n",
    "\n",
    "How does each hyper-parameter affect the optimization process?\n",
    "\n",
    "We will discuss this in depth when optimizing neural networks."
   ]
  },
  {
   "cell_type": "markdown",
   "metadata": {
    "slideshow": {
     "slide_type": "slide"
    }
   },
   "source": [
    "# Lets Visualize it"
   ]
  },
  {
   "cell_type": "code",
   "execution_count": 25,
   "metadata": {
    "slideshow": {
     "slide_type": "-"
    }
   },
   "outputs": [
    {
     "data": {
      "image/png": "[encoded data removed]",
      "text/plain": [
       "<matplotlib.figure.Figure at 0x12d4b0f90>"
      ]
     },
     "metadata": {},
     "output_type": "display_data"
    }
   ],
   "source": [
    "# show the mask learnt by Perceptron\n",
    "plt.figure(2)\n",
    "ax1 = plt.subplot(1,1,1)\n",
    "ax1.axis('off') # no need for axis marks\n",
    "ax1.imshow(w_perceptron.reshape(28,28),cmap=\"gray\")\n",
    "plt.show()"
   ]
  },
  {
   "cell_type": "markdown",
   "metadata": {
    "slideshow": {
     "slide_type": "slide"
    }
   },
   "source": [
    "# Testing"
   ]
  },
  {
   "cell_type": "code",
   "execution_count": 26,
   "metadata": {
    "slideshow": {
     "slide_type": "-"
    }
   },
   "outputs": [
    {
     "name": "stdout",
     "output_type": "stream",
     "text": [
      "perceptron err = 0.0132764343291\n"
     ]
    }
   ],
   "source": [
    "# check performence on test data\n",
    "X, Y = mnist.data[60000:] / 255., mnist.target[60000:]\n",
    "x = [ex for ex, ey in zip(X, Y) if ey == 1 or ey == 8]\n",
    "# convert 1 to +1 and 8 to -1\n",
    "y = [1 if ey == 1 else -1 for ex, ey in zip(X, Y) if ey == 1 or ey == 8]\n",
    "\n",
    "m =len(x)\n",
    "\n",
    "M_perceptron = 0\n",
    "for t in range(0, m):\n",
    "    y_hat = np.sign(np.dot(w_perceptron, x[t]))\n",
    "    if y[t] != y_hat:\n",
    "        M_perceptron = M_perceptron + 1\n",
    "print(\"perceptron err =\", float(M_perceptron) / m)"
   ]
  },
  {
   "cell_type": "markdown",
   "metadata": {
    "slideshow": {
     "slide_type": "subslide"
    }
   },
   "source": [
    "# Discussion\n",
    "- Why is important to test?\n",
    "    - why accuracy on train isn't enough?\n",
    "    - what about a validation set?\n",
    "- Why is important to normalize?\n",
    "    - convergence rate (some weights will update faster than others, draw 2d example)\n",
    "    - contribution to loss (euclidean distance example in 2d)\n",
    "    - many components in neural nets assume normalized values (e.g. sigmoid)"
   ]
  }
 ],
 "metadata": {
  "celltoolbar": "Slideshow",
  "kernelspec": {
   "display_name": "Python [conda root]",
   "language": "python",
   "name": "conda-root-py"
  },
  "language_info": {
   "codemirror_mode": {
    "name": "ipython",
    "version": 2
   },
   "file_extension": ".py",
   "mimetype": "text/x-python",
   "name": "python",
   "nbconvert_exporter": "python",
   "pygments_lexer": "ipython2",
   "version": "2.7.13"
  }
 },
 "nbformat": 4,
 "nbformat_minor": 2
}
